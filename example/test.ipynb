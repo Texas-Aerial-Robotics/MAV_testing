{
 "cells": [
  {
   "cell_type": "code",
   "execution_count": 16,
   "id": "a39671ce",
   "metadata": {},
   "outputs": [],
   "source": [
    "\n",
    "import asyncio\n",
    "import cv2\n",
    "\n",
    "from mavsdk import System\n",
    "from mavsdk.offboard import OffboardError, VelocityNedYaw\n",
    "from Video import Video\n"
   ]
  },
  {
   "cell_type": "code",
   "execution_count": 2,
   "id": "873d22d6",
   "metadata": {},
   "outputs": [
    {
     "name": "stdout",
     "output_type": "stream",
     "text": [
      "Waiting for drone to connect...\n",
      "-- Connected to drone!\n"
     ]
    }
   ],
   "source": [
    "drone = System()\n",
    "await drone.connect()\n",
    "\n",
    "print(\"Waiting for drone to connect...\")\n",
    "async for state in drone.core.connection_state():\n",
    "    if state.is_connected:\n",
    "        print(\"-- Connected to drone!\")\n",
    "        break"
   ]
  },
  {
   "cell_type": "code",
   "execution_count": 3,
   "id": "4d36ac51",
   "metadata": {},
   "outputs": [],
   "source": [
    "await drone.action.arm()\n",
    "await drone.action.takeoff()"
   ]
  },
  {
   "cell_type": "code",
   "execution_count": 4,
   "id": "3b8c5ef0",
   "metadata": {},
   "outputs": [
    {
     "name": "stdout",
     "output_type": "stream",
     "text": [
      "-- Setting initial setpoint\n"
     ]
    }
   ],
   "source": [
    "print(\"-- Setting initial setpoint\")\n",
    "await drone.offboard.set_velocity_ned(VelocityNedYaw(0.0, 0.0, 0.0, 0.0))\n",
    "\n",
    "await drone.offboard.start()"
   ]
  },
  {
   "cell_type": "code",
   "execution_count": 26,
   "id": "0d345bef",
   "metadata": {},
   "outputs": [],
   "source": [
    "await drone.offboard.set_velocity_ned(VelocityNedYaw(2.0, 0.0, 0.0, 0.0))\n",
    "await asyncio.sleep(4)\n",
    "await drone.offboard.set_velocity_ned(VelocityNedYaw(0.0, 0.0, 0.0, 0.0))\n"
   ]
  },
  {
   "cell_type": "code",
   "execution_count": 17,
   "id": "0b33b892",
   "metadata": {},
   "outputs": [],
   "source": [
    "await drone.offboard.set_velocity_ned(VelocityNedYaw(0.0, 0.0, -1.0, 0.0))\n",
    "await asyncio.sleep(4)\n",
    "await drone.offboard.set_velocity_ned(VelocityNedYaw(0.0, 0.0, 0.0, 0.0))\n"
   ]
  },
  {
   "cell_type": "code",
   "execution_count": 27,
   "id": "9d3f2b95",
   "metadata": {},
   "outputs": [],
   "source": [
    "await drone.action.land()"
   ]
  },
  {
   "cell_type": "code",
   "execution_count": 9,
   "id": "4bb5528e",
   "metadata": {},
   "outputs": [
    {
     "name": "stdout",
     "output_type": "stream",
     "text": [
      "Waiting for drone to connect...\n",
      "-- Connected to drone!\n"
     ]
    }
   ],
   "source": [
    "drone1 = System(mavsdk_server_address=\"localhost\", port=50051)\n",
    "await drone1.connect()\n",
    "\n",
    "print(\"Waiting for drone to connect...\")\n",
    "async for state in drone1.core.connection_state():\n",
    "    if state.is_connected:\n",
    "        print(\"-- Connected to drone!\")\n",
    "        break\n",
    "    \n"
   ]
  },
  {
   "cell_type": "code",
   "execution_count": 11,
   "id": "29dfef2e",
   "metadata": {},
   "outputs": [],
   "source": [
    "await drone1.action.land()"
   ]
  },
  {
   "cell_type": "code",
   "execution_count": 15,
   "id": "4ed0424b",
   "metadata": {},
   "outputs": [],
   "source": [
    "video_source = Video(port=5601)"
   ]
  },
  {
   "cell_type": "code",
   "execution_count": null,
   "id": "a05a5dec",
   "metadata": {},
   "outputs": [],
   "source": []
  },
  {
   "cell_type": "code",
   "execution_count": null,
   "id": "25fa623c",
   "metadata": {},
   "outputs": [
    {
     "ename": "error",
     "evalue": "OpenCV(4.12.0) :-1: error: (-5:Bad argument) in function 'imread'\n> Overload resolution failed:\n>  - Expected 'filename' to be a str or path-like object\n>  - Expected 'filename' to be a str or path-like object\n>  - Expected 'filename' to be a str or path-like object\n",
     "output_type": "error",
     "traceback": [
      "\u001b[0;31m---------------------------------------------------------------------------\u001b[0m",
      "\u001b[0;31merror\u001b[0m                                     Traceback (most recent call last)",
      "Cell \u001b[0;32mIn[19], line 4\u001b[0m\n\u001b[1;32m      2\u001b[0m \u001b[38;5;28;01mif\u001b[39;00m video_source\u001b[38;5;241m.\u001b[39mframe_available():\n\u001b[1;32m      3\u001b[0m     frame \u001b[38;5;241m=\u001b[39m video_source\u001b[38;5;241m.\u001b[39mframe()\n\u001b[0;32m----> 4\u001b[0m     \u001b[43mcv2\u001b[49m\u001b[38;5;241;43m.\u001b[39;49m\u001b[43mimread\u001b[49m\u001b[43m(\u001b[49m\u001b[43mframe\u001b[49m\u001b[43m)\u001b[49m\n\u001b[1;32m      5\u001b[0m     cv2\u001b[38;5;241m.\u001b[39mwaitKey(\u001b[38;5;241m1\u001b[39m)\n",
      "\u001b[0;31merror\u001b[0m: OpenCV(4.12.0) :-1: error: (-5:Bad argument) in function 'imread'\n> Overload resolution failed:\n>  - Expected 'filename' to be a str or path-like object\n>  - Expected 'filename' to be a str or path-like object\n>  - Expected 'filename' to be a str or path-like object\n"
     ]
    }
   ],
   "source": [
    "while True:\n",
    "    if video_source.frame_available():\n",
    "        frame = video_source.frame()\n",
    "        cv2.im\n",
    "        cv2.waitKey(1)"
   ]
  }
 ],
 "metadata": {
  "kernelspec": {
   "display_name": "Python 3",
   "language": "python",
   "name": "python3"
  },
  "language_info": {
   "codemirror_mode": {
    "name": "ipython",
    "version": 3
   },
   "file_extension": ".py",
   "mimetype": "text/x-python",
   "name": "python",
   "nbconvert_exporter": "python",
   "pygments_lexer": "ipython3",
   "version": "3.8.10"
  }
 },
 "nbformat": 4,
 "nbformat_minor": 5
}
